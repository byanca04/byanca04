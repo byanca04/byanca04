{
  "nbformat": 4,
  "nbformat_minor": 0,
  "metadata": {
    "colab": {
      "provenance": [],
      "authorship_tag": "ABX9TyMTxlf1XJlklOS4WuaJWrud",
      "include_colab_link": true
    },
    "kernelspec": {
      "name": "python3",
      "display_name": "Python 3"
    },
    "language_info": {
      "name": "python"
    }
  },
  "cells": [
    {
      "cell_type": "markdown",
      "metadata": {
        "id": "view-in-github",
        "colab_type": "text"
      },
      "source": [
        "<a href=\"https://colab.research.google.com/github/byanca04/byanca04/blob/main/atividade2_CienciaDeDados.ipynb\" target=\"_parent\"><img src=\"https://colab.research.google.com/assets/colab-badge.svg\" alt=\"Open In Colab\"/></a>"
      ]
    },
    {
      "cell_type": "code",
      "execution_count": null,
      "metadata": {
        "colab": {
          "base_uri": "https://localhost:8080/"
        },
        "id": "1FljHxdRfbIE",
        "outputId": "c7225462-beea-48e2-8793-7202915f2e67"
      },
      "outputs": [
        {
          "output_type": "stream",
          "name": "stdout",
          "text": [
            "Requirement already satisfied: pandas in /usr/local/lib/python3.10/dist-packages (1.5.3)\n",
            "Requirement already satisfied: python-dateutil>=2.8.1 in /usr/local/lib/python3.10/dist-packages (from pandas) (2.8.2)\n",
            "Requirement already satisfied: pytz>=2020.1 in /usr/local/lib/python3.10/dist-packages (from pandas) (2023.4)\n",
            "Requirement already satisfied: numpy>=1.21.0 in /usr/local/lib/python3.10/dist-packages (from pandas) (1.25.2)\n",
            "Requirement already satisfied: six>=1.5 in /usr/local/lib/python3.10/dist-packages (from python-dateutil>=2.8.1->pandas) (1.16.0)\n"
          ]
        }
      ],
      "source": [
        "pip install pandas"
      ]
    },
    {
      "cell_type": "code",
      "source": [
        "import pandas as pd"
      ],
      "metadata": {
        "id": "h0iqLYAphR9e"
      },
      "execution_count": null,
      "outputs": []
    },
    {
      "cell_type": "code",
      "source": [
        "data = {\n",
        "    'Pontuação': [5, 7, 8, 4, 3, 7, 9, 10, 5, 10, 4, 9, 7, 6, 10, 8, 10],\n",
        "    'Nome': ['Anna', 'Beatriz', 'Caique','Daniella','Eduardo','Felix', 'George', 'Helena','Ingrid','Joelma','Karol','Luana', 'Mario','Nando','Oscar','Pamela', 'Roberta']\n",
        "}\n",
        "\n",
        "df = pd.DataFrame(data);\n",
        "\n",
        "print(df);"
      ],
      "metadata": {
        "colab": {
          "base_uri": "https://localhost:8080/"
        },
        "id": "mDAWdvLGhX_T",
        "outputId": "184fa62c-8c9e-415b-d4f2-4af56077d00f"
      },
      "execution_count": null,
      "outputs": [
        {
          "output_type": "stream",
          "name": "stdout",
          "text": [
            "    Pontuação      Nome\n",
            "0           5      Anna\n",
            "1           7   Beatriz\n",
            "2           8    Caique\n",
            "3           4  Daniella\n",
            "4           3   Eduardo\n",
            "5           7     Felix\n",
            "6           9    George\n",
            "7          10    Helena\n",
            "8           5    Ingrid\n",
            "9          10    Joelma\n",
            "10          4     Karol\n",
            "11          9     Luana\n",
            "12          7     Mario\n",
            "13          6     Nando\n",
            "14         10     Oscar\n",
            "15          8    Pamela\n",
            "16         10   Roberta\n"
          ]
        }
      ]
    },
    {
      "cell_type": "code",
      "source": [
        "media = df['Pontuação'].mean();\n",
        "print(media)"
      ],
      "metadata": {
        "colab": {
          "base_uri": "https://localhost:8080/"
        },
        "id": "WWcILtZYi3hh",
        "outputId": "2d376ce7-e773-4009-f56d-dd47138b8b42"
      },
      "execution_count": null,
      "outputs": [
        {
          "output_type": "stream",
          "name": "stdout",
          "text": [
            "7.176470588235294\n"
          ]
        }
      ]
    },
    {
      "cell_type": "code",
      "source": [
        "mediana = df['Pontuação'].median();\n",
        "print(mediana)"
      ],
      "metadata": {
        "colab": {
          "base_uri": "https://localhost:8080/"
        },
        "id": "U0K6jS_5jgOx",
        "outputId": "68c077ec-22c5-4be7-8700-8e03c30b15fb"
      },
      "execution_count": null,
      "outputs": [
        {
          "output_type": "stream",
          "name": "stdout",
          "text": [
            "7.0\n"
          ]
        }
      ]
    },
    {
      "cell_type": "code",
      "source": [
        "moda = df['Pontuação'].mode();\n",
        "print(moda)"
      ],
      "metadata": {
        "colab": {
          "base_uri": "https://localhost:8080/"
        },
        "id": "rBcgGEWojr_u",
        "outputId": "d3010b4e-7f14-4817-f496-ecdb42f7eeff"
      },
      "execution_count": null,
      "outputs": [
        {
          "output_type": "stream",
          "name": "stdout",
          "text": [
            "0    10\n",
            "Name: Pontuação, dtype: int64\n"
          ]
        }
      ]
    }
  ]
}